{
 "cells": [
  {
   "cell_type": "code",
   "execution_count": 19,
   "id": "02a06177",
   "metadata": {},
   "outputs": [],
   "source": [
    "#Create a Function which checks the number is Odd or Even\n",
    "def OddEven():\n",
    "    Num=int(input(\"Enter the Number: \"))\n",
    "    if ((Num)%2==1):\n",
    "        print(Num, \" is Odd Number\")\n",
    "        message=\"Odd Number\"\n",
    "    else:\n",
    "        print(Num, \" is Even Number\")\n",
    "        message=\"Even Number\""
   ]
  },
  {
   "cell_type": "code",
   "execution_count": 20,
   "id": "ec2c6607",
   "metadata": {},
   "outputs": [
    {
     "name": "stdout",
     "output_type": "stream",
     "text": [
      "Enter the Number: 1234\n",
      "1234  is Even Number\n"
     ]
    }
   ],
   "source": [
    "OddEven()"
   ]
  },
  {
   "cell_type": "code",
   "execution_count": null,
   "id": "1f835a44",
   "metadata": {},
   "outputs": [],
   "source": [
    "#Create a Function that tells the eligibility of marraige for male is 21 and female is 18 \n",
    "def EligbilityForMarraige():\n",
    "    Gender=\"(Input Agender:)\"\n",
    "    if Gender==Male:\n",
    "        Age=int(Input Age\": )"
   ]
  },
  {
   "cell_type": "code",
   "execution_count": 13,
   "id": "edca02ed",
   "metadata": {},
   "outputs": [
    {
     "name": "stdout",
     "output_type": "stream",
     "text": [
      "Sub Fields in AI are: \n",
      "Machine Learning\n",
      "Neural Networks\n",
      "Vision\n",
      "Robotics\n",
      "Speech Processing\n",
      "Natural Language Processing\n"
     ]
    }
   ],
   "source": [
    "#Subfields in AI\n",
    "print(\"Sub Fields in AI are: \")\n",
    "LISTS=['Machine Learning','Neural Networks','Vision','Robotics','Speech Processing','Natural Language Processing']\n",
    "for AI in LISTS:\n",
    "    print(AI)"
   ]
  },
  {
   "cell_type": "code",
   "execution_count": 21,
   "id": "be29d3d7",
   "metadata": {},
   "outputs": [
    {
     "name": "stdout",
     "output_type": "stream",
     "text": [
      "Enter the Sex is Male/Female: Female\n",
      "Enter the Age: 20\n",
      "Your Gender : Female\n",
      "Your Age : 20\n",
      "You are eligible for marraige\n"
     ]
    }
   ],
   "source": [
    "#Eligibility for Marraige\n",
    "sex=input(\"Enter the Sex is Male/Female: \")\n",
    "age=int(input(\"Enter the Age: \"))\n",
    "if (sex==\"Male\" and age>20):\n",
    "    print(\"Your Gender :\",sex)\n",
    "    print(\"Your Age :\",age)\n",
    "    print(\"You are eligible for marraige\")\n",
    "elif (sex==\"Female\" and age>18):\n",
    "    print(\"Your Gender :\",sex)\n",
    "    print(\"Your Age :\",age)\n",
    "    print(\"You are eligible for marraige\")\n",
    "else:\n",
    "    print(\"You are not eligible for marraige\")"
   ]
  },
  {
   "cell_type": "code",
   "execution_count": 26,
   "id": "5b6597d1",
   "metadata": {},
   "outputs": [
    {
     "name": "stdout",
     "output_type": "stream",
     "text": [
      "Enter Subject1 Marks: 36\n",
      "Enter Subject2 Marks: 77\n",
      "Enter Subject3 Marks: 88\n",
      "Enter Subject4 Marks: 88\n",
      "Enter Subject5 Marks:99\n",
      "Total : 388\n",
      "Percentage : 77.6\n"
     ]
    }
   ],
   "source": [
    "#Total.Percentage\n",
    "Subject1=int(input(\"Enter Subject1 Marks: \"))\n",
    "Subject2=int(input(\"Enter Subject2 Marks: \"))\n",
    "Subject3=int(input(\"Enter Subject3 Marks: \"))\n",
    "Subject4=int(input(\"Enter Subject4 Marks: \"))\n",
    "Subject5=int(input(\"Enter Subject5 Marks:\"))\n",
    "Total=int(Subject1+Subject2+Subject3+Subject4+Subject5)\n",
    "Percentage=Total/5\n",
    "print(\"Total :\", Total)\n",
    "print(\"Percentage :\", Percentage)\n"
   ]
  },
  {
   "cell_type": "code",
   "execution_count": 29,
   "id": "af0eacf3",
   "metadata": {},
   "outputs": [
    {
     "name": "stdout",
     "output_type": "stream",
     "text": [
      "Enter Height of Triange: 5\n",
      "Enter Breadth of Triange: 6\n",
      "Area of Triange 15.0\n",
      "Enter Height1 of Triangle: 6\n",
      "Enter Height2 of Triangle: 7\n",
      "Enter Breadth of Triangle: 8\n",
      "Perimeter of Triange :  21\n"
     ]
    }
   ],
   "source": [
    "#Triangle\n",
    "Height=int(input(\"Enter Height of Triange: \"))\n",
    "Breadth=int(input(\"Enter Breadth of Triange: \"))\n",
    "Area=(Height*Breadth)/2\n",
    "print(\"Area of Triange\",Area)\n",
    "Height1=int(input(\"Enter Height1 of Triangle: \"))\n",
    "Height2=int(input(\"Enter Height2 of Triangle: \"))\n",
    "Breadth=int(input(\"Enter Breadth of Triangle: \"))\n",
    "Perimeter=int(Height1+Height2+Breadth)\n",
    "print(\"Perimeter of Triange : \",Perimeter)"
   ]
  }
 ],
 "metadata": {
  "kernelspec": {
   "display_name": "Python 3 (ipykernel)",
   "language": "python",
   "name": "python3"
  },
  "language_info": {
   "codemirror_mode": {
    "name": "ipython",
    "version": 3
   },
   "file_extension": ".py",
   "mimetype": "text/x-python",
   "name": "python",
   "nbconvert_exporter": "python",
   "pygments_lexer": "ipython3",
   "version": "3.11.5"
  }
 },
 "nbformat": 4,
 "nbformat_minor": 5
}
