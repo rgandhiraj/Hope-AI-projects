{
 "cells": [
  {
   "cell_type": "code",
   "execution_count": 2,
   "id": "54cce76b",
   "metadata": {},
   "outputs": [
    {
     "name": "stdout",
     "output_type": "stream",
     "text": [
      "Enter the value of i: 10\n",
      "Correct\n"
     ]
    }
   ],
   "source": [
    "#Print if i==10 correct\n",
    "i=int(input(\"Enter the value of i: \"))\n",
    "if (i==10):\n",
    "    print(\"Correct\")"
   ]
  },
  {
   "cell_type": "code",
   "execution_count": 6,
   "id": "ea474ae9",
   "metadata": {},
   "outputs": [
    {
     "name": "stdout",
     "output_type": "stream",
     "text": [
      "Enter Password:Hope@123\n",
      "Password is correct\n"
     ]
    }
   ],
   "source": [
    "#Check password using if, else\n",
    "Password=input(\"Enter Password:\")\n",
    "if (Password==\"Hope@123\"):\n",
    "    print(\"Password is correct\")\n",
    "else:\n",
    "    print(\"Password is wrong\")"
   ]
  },
  {
   "cell_type": "code",
   "execution_count": 13,
   "id": "ccb72080",
   "metadata": {},
   "outputs": [
    {
     "name": "stdout",
     "output_type": "stream",
     "text": [
      "Enter age: 60\n",
      "Senior Citizen\n"
     ]
    }
   ],
   "source": [
    "#Category the people by age like Children, Adult, Citizen, Senior Citizen\n",
    "age=int(input(\"Enter age: \"))\n",
    "if (age<19):\n",
    "    print(\"Children\")\n",
    "elif (age<35):\n",
    "    print(\"Adult\")\n",
    "elif (age<59):\n",
    "    print(\"Citizen\")\n",
    "else:\n",
    "    print(\"Senior Citizen\")"
   ]
  },
  {
   "cell_type": "code",
   "execution_count": 17,
   "id": "dfda134c",
   "metadata": {},
   "outputs": [
    {
     "name": "stdout",
     "output_type": "stream",
     "text": [
      "Enter the Number: 0\n",
      "No is Zero\n"
     ]
    }
   ],
   "source": [
    "#Print Positive or Negative Number\n",
    "num=int(input(\"Enter the Number: \"))\n",
    "if (num>0):\n",
    "    print(\"No is Positive\")\n",
    "elif (num<0):\n",
    "    print(\"No is Negative\")\n",
    "else:\n",
    "    print(\"No is Zero\")"
   ]
  },
  {
   "cell_type": "code",
   "execution_count": 19,
   "id": "454e7e14",
   "metadata": {},
   "outputs": [
    {
     "name": "stdout",
     "output_type": "stream",
     "text": [
      "Enter Number : 16\n",
      "Number is not Divisible by 5\n"
     ]
    }
   ],
   "source": [
    "#Check number is divisible by 5\n",
    "number=int(input(\"Enter Number : \"))\n",
    "if (number/5==0):\n",
    "    print(\"Number is Divisible by 5\")\n",
    "else:\n",
    "    print(\"Number is not Divisible by 5\")"
   ]
  }
 ],
 "metadata": {
  "kernelspec": {
   "display_name": "Python 3 (ipykernel)",
   "language": "python",
   "name": "python3"
  },
  "language_info": {
   "codemirror_mode": {
    "name": "ipython",
    "version": 3
   },
   "file_extension": ".py",
   "mimetype": "text/x-python",
   "name": "python",
   "nbconvert_exporter": "python",
   "pygments_lexer": "ipython3",
   "version": "3.11.5"
  }
 },
 "nbformat": 4,
 "nbformat_minor": 5
}
