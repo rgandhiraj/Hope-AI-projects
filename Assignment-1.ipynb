{
 "cells": [
  {
   "cell_type": "code",
   "execution_count": 1,
   "id": "c184a27e",
   "metadata": {},
   "outputs": [
    {
     "name": "stdout",
     "output_type": "stream",
     "text": [
      "Welcome to Assignement-1\n"
     ]
    }
   ],
   "source": [
    "print(\"Welcome to Assignement-1\")"
   ]
  },
  {
   "cell_type": "code",
   "execution_count": 2,
   "id": "94a5285e",
   "metadata": {},
   "outputs": [
    {
     "name": "stdout",
     "output_type": "stream",
     "text": [
      "40\n"
     ]
    }
   ],
   "source": [
    "Num1=10\n",
    "Num2=30\n",
    "add=Num1+Num2\n",
    "print(int(Num1+Num2))"
   ]
  },
  {
   "cell_type": "code",
   "execution_count": 21,
   "id": "75e6f3b3",
   "metadata": {},
   "outputs": [
    {
     "name": "stdout",
     "output_type": "stream",
     "text": [
      "Enter the value of BMI:50\n"
     ]
    }
   ],
   "source": [
    "BMI=int(input(\"Enter the value of BMI:\"))"
   ]
  },
  {
   "cell_type": "code",
   "execution_count": 22,
   "id": "f4974b5a",
   "metadata": {},
   "outputs": [
    {
     "name": "stdout",
     "output_type": "stream",
     "text": [
      "Obese\n"
     ]
    }
   ],
   "source": [
    "        if int(BMI)<=18.4:\n",
    "            print(\"Under Weight\")\n",
    "        elif int(BMI)<25:\n",
    "            print(\"Normal\")\n",
    "        elif int(BMI)<=34:\n",
    "            print(\"Very Over Weight\")\n",
    "        else:\n",
    "            print(\"Obese\")"
   ]
  }
 ],
 "metadata": {
  "kernelspec": {
   "display_name": "Python 3 (ipykernel)",
   "language": "python",
   "name": "python3"
  },
  "language_info": {
   "codemirror_mode": {
    "name": "ipython",
    "version": 3
   },
   "file_extension": ".py",
   "mimetype": "text/x-python",
   "name": "python",
   "nbconvert_exporter": "python",
   "pygments_lexer": "ipython3",
   "version": "3.11.5"
  }
 },
 "nbformat": 4,
 "nbformat_minor": 5
}
