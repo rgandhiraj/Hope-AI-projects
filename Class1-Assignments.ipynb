{
 "cells": [
  {
   "cell_type": "code",
   "execution_count": 16,
   "id": "ace7ce2b",
   "metadata": {},
   "outputs": [],
   "source": [
    "class SubfieldsInAI():\n",
    "    def Subfields():\n",
    "        print(\"Sub Fields in AI are:\")\n",
    "        LISTS1=(\"Machine Learning\",\"Neural Networks\",\"Vision\",\"Robotics\",\"Speech Processing\",\"Natural Language Processing\")\n",
    "        for AI in LISTS1:\n",
    "            print(AI)"
   ]
  },
  {
   "cell_type": "code",
   "execution_count": 17,
   "id": "c2ea4615",
   "metadata": {},
   "outputs": [
    {
     "name": "stdout",
     "output_type": "stream",
     "text": [
      "Sub Fields in AI are:\n",
      "Machine Learning\n",
      "Neural Networks\n",
      "Vision\n",
      "Robotics\n",
      "Speech Processing\n",
      "Natural Language Processing\n"
     ]
    }
   ],
   "source": [
    "SubfieldsInAI.Subfields()"
   ]
  },
  {
   "cell_type": "code",
   "execution_count": 28,
   "id": "4d4a9817",
   "metadata": {},
   "outputs": [],
   "source": [
    "#Create a function thats checks the given number is odd or even\n",
    "class oddeven():\n",
    "    def OddEven():\n",
    "        num=int(input(\"Enter the number :\"))\n",
    "        if ((num%2)==1):\n",
    "            print(\"Given Number is Odd\")\n",
    "        else:\n",
    "            print(\"Given Number is Even\")"
   ]
  },
  {
   "cell_type": "code",
   "execution_count": 30,
   "id": "1c0fc751",
   "metadata": {},
   "outputs": [
    {
     "name": "stdout",
     "output_type": "stream",
     "text": [
      "Enter the number :31\n",
      "Given Number is Odd\n"
     ]
    }
   ],
   "source": [
    "OddEven.OddEven()"
   ]
  },
  {
   "cell_type": "code",
   "execution_count": 38,
   "id": "81591203",
   "metadata": {},
   "outputs": [],
   "source": [
    "#Create a function that tells eligibility of marraige for male and female according to their age like \n",
    "#21 for male and 18 for female\n",
    "class EligibilityForMarraige():\n",
    "    def Marraige():\n",
    "        gender=input(\"Enter the Gender is Male/Female: \")\n",
    "        age=int(input(\"Enter the Age: \"))\n",
    "        if (gender==\"Male\" and age>=20) or (gender==\"Female\" and age>=18):\n",
    "            print(\"Your Gender :\",gender)\n",
    "            print(\"Your Age :\",age)\n",
    "            print(\"Eligible\")   \n",
    "        else:\n",
    "            print(\"Not Eligble\")\n"
   ]
  },
  {
   "cell_type": "code",
   "execution_count": 39,
   "id": "d6fd5319",
   "metadata": {},
   "outputs": [
    {
     "name": "stdout",
     "output_type": "stream",
     "text": [
      "Enter the Gender is Male/Female: Female\n",
      "Enter the Age: 45\n",
      "Your Gender : Female\n",
      "Your Age : 45\n",
      "Eligible\n"
     ]
    }
   ],
   "source": [
    "EligibilityForMarraige.Marraige()"
   ]
  },
  {
   "cell_type": "code",
   "execution_count": 44,
   "id": "6759354c",
   "metadata": {},
   "outputs": [],
   "source": [
    "#Calculate Percentage of your 10th Marks\n",
    "class FindPercentage():\n",
    "    def percentage():\n",
    "        Subject1=int(input(\"Enter your Subject1 Marks: \"))\n",
    "        Subject2=int(input(\"Enter your Subject2 Marks: \"))\n",
    "        Subject3=int(input(\"Enter your Subject3 Marks: \"))\n",
    "        Subject4=int(input(\"Enter your Subject4 Marks: \"))\n",
    "        Subject5=int(input(\"Enter your Subject5 Marks: \"))\n",
    "        Total=int(Subject1+Subject2+Subject3+Subject4+Subject5)\n",
    "        Percentage=Total/5\n",
    "        print(\"Total Marks: \",Total)\n",
    "        print(\"Percentage :\",Percentage)\n"
   ]
  },
  {
   "cell_type": "code",
   "execution_count": 45,
   "id": "97c38d68",
   "metadata": {},
   "outputs": [
    {
     "name": "stdout",
     "output_type": "stream",
     "text": [
      "Enter your Subject1 Marks: 8\n",
      "Enter your Subject2 Marks: 78\n",
      "Enter your Subject3 Marks: 67\n",
      "Enter your Subject4 Marks: 56\n",
      "Enter your Subject5 Marks: 45\n",
      "Total Marks:  254\n",
      "Percentage : 50.8\n"
     ]
    }
   ],
   "source": [
    "FindPercentage.percentage()"
   ]
  },
  {
   "cell_type": "code",
   "execution_count": 57,
   "id": "8938191f",
   "metadata": {},
   "outputs": [],
   "source": [
    "#Find Area and Perimeter of Triange using Class and Function\n",
    "class triangle():\n",
    "    def triangle():\n",
    "        Height=int(input(\"Enter Height of Triangle: \"))\n",
    "        Breadth=int(input(\"Enter Breadth of Triangle: \"))\n",
    "        area=(Height*Breadth)/2\n",
    "        print(\"Area of Triange is: \",area)\n",
    "        Height1=int(input(\"Enter Height1: \"))\n",
    "        Height2=int(input(\"Enter Height2: \"))\n",
    "        Breadth=int(input(\"Enter Breadth: \"))\n",
    "        perimeter=(Height1+Height2+Breadth)\n",
    "        print(\"Perimeter of Triangle is: \",perimeter)"
   ]
  },
  {
   "cell_type": "code",
   "execution_count": 58,
   "id": "daf5c9b5",
   "metadata": {},
   "outputs": [
    {
     "name": "stdout",
     "output_type": "stream",
     "text": [
      "Enter Height of Triangle: 2\n",
      "Enter Breadth of Triangle: 3\n",
      "Area of Triange is:  3.0\n",
      "Enter Height1: 2\n",
      "Enter Height2: 3\n",
      "Enter Breadth: 4\n",
      "Perimeter of Triangle is:  9\n"
     ]
    }
   ],
   "source": [
    "triangle.triangle()"
   ]
  }
 ],
 "metadata": {
  "kernelspec": {
   "display_name": "Python 3 (ipykernel)",
   "language": "python",
   "name": "python3"
  },
  "language_info": {
   "codemirror_mode": {
    "name": "ipython",
    "version": 3
   },
   "file_extension": ".py",
   "mimetype": "text/x-python",
   "name": "python",
   "nbconvert_exporter": "python",
   "pygments_lexer": "ipython3",
   "version": "3.11.5"
  }
 },
 "nbformat": 4,
 "nbformat_minor": 5
}
