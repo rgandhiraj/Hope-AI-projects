{
 "cells": [
  {
   "cell_type": "code",
   "execution_count": null,
   "id": "5aab64de",
   "metadata": {},
   "outputs": [],
   "source": [
    "for NUM in range(0,20):\n",
    "    print(NUM)"
   ]
  },
  {
   "cell_type": "code",
   "execution_count": null,
   "id": "1ec1726c",
   "metadata": {},
   "outputs": [],
   "source": [
    "age=int(input(\"Enter your age: \"))\n",
    "print(age)"
   ]
  },
  {
   "cell_type": "code",
   "execution_count": null,
   "id": "c22ad1a2",
   "metadata": {},
   "outputs": [],
   "source": [
    "if(age==18):\n",
    "    print(\"Adult\")"
   ]
  },
  {
   "cell_type": "code",
   "execution_count": null,
   "id": "6e491f16",
   "metadata": {},
   "outputs": [],
   "source": [
    "for NUM in range(10,20):\n",
    "    print(NUM)"
   ]
  },
  {
   "cell_type": "code",
   "execution_count": 42,
   "id": "5599fccb",
   "metadata": {},
   "outputs": [],
   "source": [
    "lists=['A','r','t','i','f','i','c','i','a','l','I','n','t','e','l','l','i','g','e','n','c','e']"
   ]
  },
  {
   "cell_type": "code",
   "execution_count": 43,
   "id": "8429eeb8",
   "metadata": {},
   "outputs": [
    {
     "name": "stdout",
     "output_type": "stream",
     "text": [
      "A\n",
      "r\n",
      "t\n",
      "i\n",
      "f\n",
      "i\n",
      "c\n",
      "i\n",
      "a\n",
      "l\n",
      "I\n",
      "n\n",
      "t\n",
      "e\n",
      "l\n",
      "l\n",
      "i\n",
      "g\n",
      "e\n",
      "n\n",
      "c\n",
      "e\n"
     ]
    }
   ],
   "source": [
    "for AI in lists:\n",
    "    print(AI)"
   ]
  },
  {
   "cell_type": "code",
   "execution_count": null,
   "id": "d55c2785",
   "metadata": {},
   "outputs": [],
   "source": [
    "Name=input('Your Name - ')\n",
    "print(Name)\n",
    "Age=input('Your Age - ')\n",
    "print(Age)\n",
    "Profession=input('Your Profession -')\n",
    "print(Profession)"
   ]
  },
  {
   "cell_type": "code",
   "execution_count": null,
   "id": "ee1b5c1c",
   "metadata": {},
   "outputs": [],
   "source": [
    "Name=input(\"- Your Name\")\n",
    "Age=input(\"- Your Age\")\n",
    "Profession=input(\"- Your Profession\")"
   ]
  },
  {
   "cell_type": "code",
   "execution_count": null,
   "id": "9ff35074",
   "metadata": {},
   "outputs": [],
   "source": [
    "print(Name)\n",
    "print(Age)"
   ]
  },
  {
   "cell_type": "code",
   "execution_count": null,
   "id": "a55b2f72",
   "metadata": {},
   "outputs": [],
   "source": [
    "Tuple1=()\n",
    "print(\"Initial Empty Tuple: \")\n",
    "print(Tuple1)"
   ]
  },
  {
   "cell_type": "code",
   "execution_count": null,
   "id": "ccdb8382",
   "metadata": {},
   "outputs": [],
   "source": [
    "#Creating a Tuple with the use of strings\n",
    "Tuple1=('Geeks' , 'for')\n",
    "print('\\nTuple with the use of string: ')\n",
    "print(Tuple1)"
   ]
  },
  {
   "cell_type": "code",
   "execution_count": null,
   "id": "6464bf3f",
   "metadata": {},
   "outputs": [],
   "source": [
    "lists=[1,2,3,4,5]\n",
    "print(lists)"
   ]
  },
  {
   "cell_type": "code",
   "execution_count": null,
   "id": "4bac5ad7",
   "metadata": {},
   "outputs": [],
   "source": [
    "Tuple1=tuple('Geeks')\n",
    "print(\"\\nTuple with the use of function: \")\n",
    "print(Tuple1)"
   ]
  },
  {
   "cell_type": "code",
   "execution_count": null,
   "id": "4aed2f65",
   "metadata": {},
   "outputs": [],
   "source": [
    "LISTS=(1,'Welcome',2,'Hope')\n",
    "print(LISTS)"
   ]
  },
  {
   "cell_type": "code",
   "execution_count": null,
   "id": "c04a87d5",
   "metadata": {},
   "outputs": [],
   "source": [
    "tuple1=()\n",
    "print(\"Initial Empty Tupe\")\n",
    "print(tuple1)"
   ]
  },
  {
   "cell_type": "code",
   "execution_count": null,
   "id": "c85707b3",
   "metadata": {},
   "outputs": [],
   "source": [
    "#Create tuple with\n",
    "#The use of String\n",
    "tuple1=('Geeks','For')\n",
    "print(\"\\Tuple with the use of string\")\n",
    "print(tuple1)"
   ]
  },
  {
   "cell_type": "code",
   "execution_count": null,
   "id": "3214eb34",
   "metadata": {},
   "outputs": [],
   "source": [
    "#Creating Tuple\n",
    "#with the use of function\n",
    "tuple1=tuple('Geeks')\n",
    "print(\"\\Tuple with the use of function\")\n",
    "print(tuple1)"
   ]
  },
  {
   "cell_type": "code",
   "execution_count": null,
   "id": "4085a98b",
   "metadata": {},
   "outputs": [],
   "source": [
    "age=int(input(\"Enter the Age: \"))\n",
    "print(age)"
   ]
  },
  {
   "cell_type": "code",
   "execution_count": null,
   "id": "e53fda1f",
   "metadata": {},
   "outputs": [],
   "source": [
    "if(age<18):\n",
    "    print(\"Children\")\n",
    "else:\n",
    "    print(\"Adult\")"
   ]
  },
  {
   "cell_type": "code",
   "execution_count": null,
   "id": "089ed799",
   "metadata": {},
   "outputs": [],
   "source": [
    "#if-elif\n",
    "if (age<18):\n",
    "    print(\"Children\")\n",
    "elif (age<35):\n",
    "    print(\"Adult\")\n",
    "elif (age<59):\n",
    "    print(\"Citizen\")\n",
    "else:\n",
    "    print(\"Senior Citizen\")\n"
   ]
  },
  {
   "cell_type": "code",
   "execution_count": null,
   "id": "259c19a7",
   "metadata": {},
   "outputs": [],
   "source": [
    "#Odd or Even Number\n",
    "num=int(input(\"Enter the Number\"))\n",
    "if ((num%2)==1):\n",
    "    print(\"The Number is Odd Number\")\n",
    "else:\n",
    "    print(\"The Number is Even Number\")\n",
    "    "
   ]
  },
  {
   "cell_type": "code",
   "execution_count": null,
   "id": "94c729c7",
   "metadata": {},
   "outputs": [],
   "source": [
    "#List number from 1 to 10 Vertically\n",
    "for num in range(0,11):\n",
    "    print(num)"
   ]
  },
  {
   "cell_type": "code",
   "execution_count": null,
   "id": "9c5df128",
   "metadata": {},
   "outputs": [],
   "source": [
    "#List Numbers from 100 TO 110 vertically\n",
    "for num in range(100,111):\n",
    "    print(num)"
   ]
  },
  {
   "cell_type": "code",
   "execution_count": null,
   "id": "da6f216c",
   "metadata": {},
   "outputs": [],
   "source": [
    "#List Even Numbers\n",
    "for num in range(0,11,2):\n",
    "    print(num)"
   ]
  },
  {
   "cell_type": "code",
   "execution_count": null,
   "id": "d10beeb3",
   "metadata": {},
   "outputs": [],
   "source": [
    "print(\"Welcome to Assigment-1\")"
   ]
  },
  {
   "cell_type": "code",
   "execution_count": null,
   "id": "fb36e849",
   "metadata": {},
   "outputs": [],
   "source": [
    "#Addition\n",
    "Num1=10\n",
    "Num2=40\n",
    "add=Num1+Num2\n",
    "print(add)"
   ]
  },
  {
   "cell_type": "code",
   "execution_count": 35,
   "id": "72637a4c",
   "metadata": {},
   "outputs": [
    {
     "name": "stdout",
     "output_type": "stream",
     "text": [
      "Enter Weight in Kg:75\n",
      "75\n",
      "Enter Height in Meters:1.8\n",
      "1.8\n",
      "23.148148148148145\n",
      "Not Very overweight\n"
     ]
    }
   ],
   "source": [
    "#Calculate Body Mass Index\n",
    "Weight=int(input(\"Enter Weight in Kg:\"))\n",
    "print(Weight)\n",
    "Height=float(input(\"Enter Height in Meters:\"))\n",
    "print(Height)\n",
    "BMI=float(Weight/(Height)**2)\n",
    "print(BMI)\n",
    "if (BMI>34):\n",
    "    print(\"Very Overweight\")\n",
    "else:\n",
    "    print(\"Not Very overweight\")\n",
    "    "
   ]
  },
  {
   "cell_type": "code",
   "execution_count": 24,
   "id": "c79b88a0",
   "metadata": {},
   "outputs": [
    {
     "name": "stdout",
     "output_type": "stream",
     "text": [
      "Enter BMI value: 78\n",
      "Very Overweight\n"
     ]
    }
   ],
   "source": [
    "BMI=int(input(\"Enter BMI value: \"))\n",
    "if BMI<18:\n",
    "    print(\"Light Weight\")\n",
    "elif BMI<34:\n",
    "    print(\"Correct Weight\")\n",
    "else:\n",
    "    print(\"Very Overweight\")"
   ]
  },
  {
   "cell_type": "code",
   "execution_count": 25,
   "id": "a6861093",
   "metadata": {},
   "outputs": [
    {
     "name": "stdout",
     "output_type": "stream",
     "text": [
      "Hope AI\n"
     ]
    }
   ],
   "source": [
    "print(\"Hope AI\")"
   ]
  },
  {
   "cell_type": "code",
   "execution_count": 26,
   "id": "87da5abb",
   "metadata": {},
   "outputs": [
    {
     "name": "stdout",
     "output_type": "stream",
     "text": [
      "Enter your Institute Name: Hope AI\n",
      "Hope AI\n"
     ]
    }
   ],
   "source": [
    "#Buying Input\n",
    "name=input(\"Enter your Institute Name: \")\n",
    "print(name)"
   ]
  },
  {
   "cell_type": "code",
   "execution_count": 27,
   "id": "4b58012d",
   "metadata": {},
   "outputs": [
    {
     "name": "stdout",
     "output_type": "stream",
     "text": [
      "Enter name: Gandhi\n",
      "Enter Age: 51\n",
      "Enter Your Schoole Name: PHSS\n",
      "Enter your Degree :BE,MBA\n"
     ]
    }
   ],
   "source": [
    "#Buy Inputs\n",
    "name=input(\"Enter name: \")\n",
    "age=input(\"Enter Age: \")\n",
    "School_name=input(\"Enter Your Schoole Name: \")\n",
    "Degree=input(\"Enter your Degree :\")"
   ]
  },
  {
   "cell_type": "code",
   "execution_count": 28,
   "id": "66f0ca62",
   "metadata": {},
   "outputs": [
    {
     "name": "stdout",
     "output_type": "stream",
     "text": [
      "77\n"
     ]
    }
   ],
   "source": [
    "#Addition\n",
    "a=43\n",
    "b=34\n",
    "add=int(a+b)\n",
    "print(add)"
   ]
  },
  {
   "cell_type": "code",
   "execution_count": 29,
   "id": "f85d5ee0",
   "metadata": {},
   "outputs": [
    {
     "name": "stdout",
     "output_type": "stream",
     "text": [
      "9\n"
     ]
    }
   ],
   "source": [
    "#Subtraction\n",
    "a=43\n",
    "b=34\n",
    "sub=int(a-b)\n",
    "print(sub)"
   ]
  },
  {
   "cell_type": "code",
   "execution_count": 30,
   "id": "4bd31710",
   "metadata": {},
   "outputs": [
    {
     "name": "stdout",
     "output_type": "stream",
     "text": [
      "6111\n"
     ]
    }
   ],
   "source": [
    "#Multiplication\n",
    "a=63\n",
    "b=97\n",
    "mul=int(a*b)\n",
    "print(mul)\n"
   ]
  },
  {
   "cell_type": "code",
   "execution_count": 32,
   "id": "68fa95d5",
   "metadata": {},
   "outputs": [
    {
     "name": "stdout",
     "output_type": "stream",
     "text": [
      "2.4516129032258065\n"
     ]
    }
   ],
   "source": [
    "#Division\n",
    "a=76\n",
    "b=31\n",
    "div=float(76/31)\n",
    "print(div)"
   ]
  },
  {
   "cell_type": "code",
   "execution_count": 33,
   "id": "54e88e9f",
   "metadata": {},
   "outputs": [
    {
     "name": "stdout",
     "output_type": "stream",
     "text": [
      "14\n"
     ]
    }
   ],
   "source": [
    "#Modulo\n",
    "a=76\n",
    "b=31\n",
    "mod=int(a%b)\n",
    "print(mod)"
   ]
  },
  {
   "cell_type": "code",
   "execution_count": 34,
   "id": "b18e237f",
   "metadata": {},
   "outputs": [
    {
     "name": "stdout",
     "output_type": "stream",
     "text": [
      "256\n"
     ]
    }
   ],
   "source": [
    "#Power\n",
    "a=4\n",
    "b=4\n",
    "power=int(4**4)\n",
    "print(power)"
   ]
  },
  {
   "cell_type": "code",
   "execution_count": 36,
   "id": "95aeb5ac",
   "metadata": {},
   "outputs": [
    {
     "name": "stdout",
     "output_type": "stream",
     "text": [
      "0\n",
      "1\n",
      "2\n",
      "3\n",
      "4\n",
      "5\n",
      "6\n",
      "7\n",
      "8\n",
      "9\n",
      "10\n",
      "11\n",
      "12\n",
      "13\n",
      "14\n",
      "15\n",
      "16\n",
      "17\n",
      "18\n",
      "19\n"
     ]
    }
   ],
   "source": [
    "#Print 0 to 20 using range\n",
    "for num in range(0,20):\n",
    "    print(num)"
   ]
  },
  {
   "cell_type": "code",
   "execution_count": 39,
   "id": "f12378cd",
   "metadata": {},
   "outputs": [
    {
     "name": "stdout",
     "output_type": "stream",
     "text": [
      "(10, 11, 12, 13, 14, 15, 16, 17, 18, 19, 20)\n"
     ]
    }
   ],
   "source": [
    "#Print 10 to 20 \n",
    "LIST=(10,11,12,13,14,15,16,17,18,19,20)\n",
    "print(LIST)"
   ]
  },
  {
   "cell_type": "code",
   "execution_count": 40,
   "id": "0a78ba40",
   "metadata": {},
   "outputs": [
    {
     "name": "stdout",
     "output_type": "stream",
     "text": [
      "7\n"
     ]
    }
   ],
   "source": [
    "#Print number of items in the list by using len\n",
    "LIST2=[10,20,14,55,43,87,76]\n",
    "print(len(LIST2))"
   ]
  },
  {
   "cell_type": "code",
   "execution_count": 47,
   "id": "ae419cac",
   "metadata": {},
   "outputs": [
    {
     "name": "stdout",
     "output_type": "stream",
     "text": [
      "A\n",
      "r\n",
      "t\n",
      "i\n",
      "f\n",
      "i\n",
      "c\n",
      "i\n",
      "a\n",
      "l\n",
      "\n",
      "I\n",
      "n\n",
      "t\n",
      "e\n",
      "l\n",
      "l\n",
      "i\n",
      "g\n",
      "e\n",
      "n\n",
      "c\n",
      "e\n"
     ]
    }
   ],
   "source": [
    "#Printing Artificial Intelligent vertically\n",
    "LIST3=('A','r','t','i','f','i','c','i','a','l','','I','n','t','e','l','l','i','g','e','n','c','e')\n",
    "for AI in LIST3:\n",
    "    print(AI)"
   ]
  },
  {
   "cell_type": "code",
   "execution_count": 50,
   "id": "2aabd1d3",
   "metadata": {},
   "outputs": [
    {
     "name": "stdout",
     "output_type": "stream",
     "text": [
      "-Your Name-\n",
      "-Your Age-\n",
      "-Your Profession\n"
     ]
    }
   ],
   "source": [
    "List1=(\"-Your Name-\")\n",
    "List2=(\"-Your Age-\")\n",
    "List3=(\"-Your Profession\")\n",
    "print(List1)\n",
    "print(List2)\n",
    "print(List3)"
   ]
  },
  {
   "cell_type": "code",
   "execution_count": 51,
   "id": "767245d4",
   "metadata": {},
   "outputs": [
    {
     "name": "stdout",
     "output_type": "stream",
     "text": [
      "[1, 'Welcome', 2, 'Hope']\n"
     ]
    }
   ],
   "source": [
    "#Print Mixed Datatype\n",
    "List4=[1,'Welcome',2,'Hope']\n",
    "print(List4)"
   ]
  },
  {
   "cell_type": "code",
   "execution_count": 5,
   "id": "eb82ccaf",
   "metadata": {},
   "outputs": [
    {
     "name": "stdout",
     "output_type": "stream",
     "text": [
      "-Your Name-\n",
      "-Your Age-\n",
      "-Your Profession\n"
     ]
    }
   ],
   "source": [
    "#List Name, age and Profession\n",
    "lists= ['-Your Name-','-Your Age-','-Your Profession']\n",
    "for details in lists:\n",
    "    print(details)\n"
   ]
  },
  {
   "cell_type": "code",
   "execution_count": 6,
   "id": "49b54885",
   "metadata": {},
   "outputs": [
    {
     "name": "stdout",
     "output_type": "stream",
     "text": [
      "((0, 1, 2, 3), ('Python', 'Hope'))\n"
     ]
    }
   ],
   "source": [
    "#Use GeeksforGeeks\n",
    "Tuple1=(0,1,2,3)\n",
    "Tuple2=('Python','Hope')\n",
    "Tuple3=(Tuple1,Tuple2)\n",
    "print(Tuple3)"
   ]
  },
  {
   "cell_type": "code",
   "execution_count": 14,
   "id": "306cefe1",
   "metadata": {},
   "outputs": [
    {
     "name": "stdout",
     "output_type": "stream",
     "text": [
      "19  is Odd\n",
      "25  is Odd\n",
      "1  is Odd\n"
     ]
    }
   ],
   "source": [
    "#Print Odd number in the lists\n",
    "list1=[20,10,16,19,25,1,276,188]\n",
    "for num in list1:\n",
    "    if (num%2==1):\n",
    "        print(num, \" is Odd\")\n",
    "    "
   ]
  },
  {
   "cell_type": "code",
   "execution_count": 15,
   "id": "19c1d3a3",
   "metadata": {},
   "outputs": [
    {
     "name": "stdout",
     "output_type": "stream",
     "text": [
      "20  is Even\n",
      "10  is Even\n",
      "16  is Even\n",
      "276  is Even\n",
      "188  is Even\n"
     ]
    }
   ],
   "source": [
    "#Print Even Number in the list\n",
    "for num in list1:\n",
    "    if (num%2==0):\n",
    "        print(num, ' is Even')"
   ]
  }
 ],
 "metadata": {
  "kernelspec": {
   "display_name": "Python 3 (ipykernel)",
   "language": "python",
   "name": "python3"
  },
  "language_info": {
   "codemirror_mode": {
    "name": "ipython",
    "version": 3
   },
   "file_extension": ".py",
   "mimetype": "text/x-python",
   "name": "python",
   "nbconvert_exporter": "python",
   "pygments_lexer": "ipython3",
   "version": "3.11.5"
  }
 },
 "nbformat": 4,
 "nbformat_minor": 5
}
