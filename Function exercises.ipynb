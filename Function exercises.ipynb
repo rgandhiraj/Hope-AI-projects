{
 "cells": [
  {
   "cell_type": "code",
   "execution_count": 7,
   "id": "1cbffb64",
   "metadata": {},
   "outputs": [],
   "source": [
    "def addition(a,b):\n",
    "    addition=(a+b)\n",
    "    return addition\n"
   ]
  },
  {
   "cell_type": "code",
   "execution_count": 9,
   "id": "392422c1",
   "metadata": {},
   "outputs": [
    {
     "data": {
      "text/plain": [
       "3"
      ]
     },
     "execution_count": 9,
     "metadata": {},
     "output_type": "execute_result"
    }
   ],
   "source": [
    "addition(1,2)"
   ]
  },
  {
   "cell_type": "code",
   "execution_count": 10,
   "id": "a3bd2da5",
   "metadata": {},
   "outputs": [],
   "source": [
    "def subtraction(a,b):\n",
    "    subtraction=(a-b)\n",
    "    return subtraction"
   ]
  },
  {
   "cell_type": "code",
   "execution_count": 11,
   "id": "3b71975c",
   "metadata": {},
   "outputs": [
    {
     "data": {
      "text/plain": [
       "5"
      ]
     },
     "execution_count": 11,
     "metadata": {},
     "output_type": "execute_result"
    }
   ],
   "source": [
    "subtraction(10,5)"
   ]
  },
  {
   "cell_type": "code",
   "execution_count": 14,
   "id": "c3a9dfc1",
   "metadata": {},
   "outputs": [],
   "source": [
    "#Funtion Multiplication\n",
    "def multiply(a,b):\n",
    "    multiply=(a*b)\n",
    "    return multiply"
   ]
  },
  {
   "cell_type": "code",
   "execution_count": 15,
   "id": "ea5b0a04",
   "metadata": {},
   "outputs": [
    {
     "data": {
      "text/plain": [
       "25"
      ]
     },
     "execution_count": 15,
     "metadata": {},
     "output_type": "execute_result"
    }
   ],
   "source": [
    "multiply(5,5)"
   ]
  },
  {
   "cell_type": "code",
   "execution_count": 27,
   "id": "c82dc2a8",
   "metadata": {},
   "outputs": [],
   "source": [
    "#Creating a Function for listing peole are Children, Adult, Citizen or Senior Citizen\n",
    "def AgeCategory():\n",
    "    age=int(input(\"Enter the Age: \"))\n",
    "    if (age<19):\n",
    "        print(\"Children\")\n",
    "    elif (age<35):\n",
    "        print(\"Adult\")\n",
    "    elif (age<60):\n",
    "        print(\"Citizen\")\n",
    "    else:\n",
    "        print(\"Senior Citizen\")\n",
    "    return AgeCategory()"
   ]
  },
  {
   "cell_type": "code",
   "execution_count": 34,
   "id": "c8a2a193",
   "metadata": {},
   "outputs": [],
   "source": [
    "lists=[10,34,50,60]"
   ]
  },
  {
   "cell_type": "code",
   "execution_count": 45,
   "id": "943bee27",
   "metadata": {},
   "outputs": [
    {
     "name": "stdout",
     "output_type": "stream",
     "text": [
      "Enter age: 45\n"
     ]
    }
   ],
   "source": [
    "age=int(input(\"Enter age: \"))"
   ]
  },
  {
   "cell_type": "code",
   "execution_count": 47,
   "id": "7a0ef7a8",
   "metadata": {},
   "outputs": [],
   "source": [
    "#Listing people based on category\n",
    "def Agecategory1():\n",
    "        if (age<19):\n",
    "            print(\"Children\")\n",
    "            cate=\"Children\"\n",
    "        elif (age<35):\n",
    "            print(\"Adult\")\n",
    "            cate=\"Adult\"\n",
    "        elif (age<60):\n",
    "            print(\"Citizen\")\n",
    "            cate=\"Citizen\"\n",
    "        else:\n",
    "            print(\"Senior Citizen\")\n",
    "            cate=\"Seior Citizen\"\n",
    "        return cate"
   ]
  },
  {
   "cell_type": "code",
   "execution_count": 53,
   "id": "1b5195ca",
   "metadata": {},
   "outputs": [
    {
     "name": "stdout",
     "output_type": "stream",
     "text": [
      "Enter age: 30\n",
      "Adult\n"
     ]
    }
   ],
   "source": [
    "age=int(input(\"Enter age: \"))\n",
    "agecate=Agecategory1()"
   ]
  },
  {
   "cell_type": "code",
   "execution_count": 6,
   "id": "3ccdf85e",
   "metadata": {},
   "outputs": [],
   "source": [
    "#Create Function of Odd or Even\n",
    "def oddeven():\n",
    "    num=int(input(\"Enter Number:\"))\n",
    "    if(num%2==1):\n",
    "        print(\"Number is odd number\")\n",
    "        message=\"odd number\"\n",
    "    else:\n",
    "        print(\"Number is Even number\")\n",
    "        message=\"even number\"\n",
    "    return message"
   ]
  },
  {
   "cell_type": "code",
   "execution_count": 7,
   "id": "9be73d34",
   "metadata": {},
   "outputs": [
    {
     "name": "stdout",
     "output_type": "stream",
     "text": [
      "Enter Number:10\n",
      "Number is Even number\n"
     ]
    },
    {
     "data": {
      "text/plain": [
       "'even number'"
      ]
     },
     "execution_count": 7,
     "metadata": {},
     "output_type": "execute_result"
    }
   ],
   "source": [
    "oddeven()"
   ]
  },
  {
   "cell_type": "code",
   "execution_count": 9,
   "id": "99b1d771",
   "metadata": {},
   "outputs": [],
   "source": [
    "#Addition\n",
    "def add(num1,num2):\n",
    "    add=num1+num2\n",
    "    print(add)\n",
    "    return add"
   ]
  },
  {
   "cell_type": "code",
   "execution_count": 10,
   "id": "a374356a",
   "metadata": {},
   "outputs": [
    {
     "name": "stdout",
     "output_type": "stream",
     "text": [
      "7\n"
     ]
    },
    {
     "data": {
      "text/plain": [
       "7"
      ]
     },
     "execution_count": 10,
     "metadata": {},
     "output_type": "execute_result"
    }
   ],
   "source": [
    "add(3,4)"
   ]
  },
  {
   "cell_type": "code",
   "execution_count": 17,
   "id": "02b2d293",
   "metadata": {},
   "outputs": [],
   "source": [
    "def subtraction(num1,num2):\n",
    "    sub=(num1-num2)\n",
    "    return sub"
   ]
  },
  {
   "cell_type": "code",
   "execution_count": 18,
   "id": "6dc7280a",
   "metadata": {},
   "outputs": [
    {
     "data": {
      "text/plain": [
       "1"
      ]
     },
     "execution_count": 18,
     "metadata": {},
     "output_type": "execute_result"
    }
   ],
   "source": [
    "subtraction(10,9)"
   ]
  }
 ],
 "metadata": {
  "kernelspec": {
   "display_name": "Python 3 (ipykernel)",
   "language": "python",
   "name": "python3"
  },
  "language_info": {
   "codemirror_mode": {
    "name": "ipython",
    "version": 3
   },
   "file_extension": ".py",
   "mimetype": "text/x-python",
   "name": "python",
   "nbconvert_exporter": "python",
   "pygments_lexer": "ipython3",
   "version": "3.11.5"
  }
 },
 "nbformat": 4,
 "nbformat_minor": 5
}
